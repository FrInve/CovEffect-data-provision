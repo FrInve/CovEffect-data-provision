{
 "cells": [
  {
   "cell_type": "code",
   "execution_count": 7,
   "metadata": {},
   "outputs": [],
   "source": [
    "from whoosh.qparser import MultifieldParser, FuzzyTermPlugin, OperatorsPlugin\n",
    "from whoosh.fields import Schema, SchemaClass, TEXT, KEYWORD, ID, STORED\n",
    "from whoosh.analysis import RegexTokenizer, LowercaseFilter, StopFilter\n",
    "import os, os.path\n",
    "from whoosh import index, writing"
   ]
  },
  {
   "cell_type": "code",
   "execution_count": 8,
   "metadata": {},
   "outputs": [],
   "source": [
    "IX_RELATIVE_PATH = '../products/retrieval/indexdir'"
   ]
  },
  {
   "cell_type": "code",
   "execution_count": 9,
   "metadata": {},
   "outputs": [],
   "source": [
    "# Open index\n",
    "INDEX = index.open_dir(IX_RELATIVE_PATH)\n",
    "ANALYZER = RegexTokenizer() | LowercaseFilter() | StopFilter()\n",
    "SCHEMA = Schema(\n",
    "    cord_uid = ID(stored=True),\n",
    "    doi = ID,\n",
    "    title = TEXT(analyzer=ANALYZER),\n",
    "    abstract = TEXT(analyzer=ANALYZER),\n",
    "    authors = TEXT,\n",
    ")"
   ]
  },
  {
   "cell_type": "code",
   "execution_count": 10,
   "metadata": {},
   "outputs": [],
   "source": [
    "mparser = MultifieldParser([\"title\",\"abstract\"], schema=SCHEMA)\n",
    "mparser.add_plugin(OperatorsPlugin())"
   ]
  },
  {
   "cell_type": "code",
   "execution_count": 11,
   "metadata": {},
   "outputs": [],
   "source": [
    "def retrieve(_query):\n",
    "    query = mparser.parse(str(_query))\n",
    "    with INDEX.searcher() as s:\n",
    "        results = s.search(query)\n",
    "        results = [elem['cord_uid'] for elem in results]\n",
    "        return results"
   ]
  },
  {
   "cell_type": "code",
   "execution_count": 15,
   "metadata": {},
   "outputs": [
    {
     "name": "stdout",
     "output_type": "stream",
     "text": [
      "6.28 ms ± 217 µs per loop (mean ± std. dev. of 7 runs, 100 loops each)\n"
     ]
    }
   ],
   "source": [
    "%%timeit\n",
    "retrieve('patients')"
   ]
  }
 ],
 "metadata": {
  "interpreter": {
   "hash": "05201df7a544954f450b38fd0fd01094d4202744274a96f725848d5e77dc225d"
  },
  "kernelspec": {
   "display_name": "Python 3.10.4 ('.venv': venv)",
   "language": "python",
   "name": "python3"
  },
  "language_info": {
   "codemirror_mode": {
    "name": "ipython",
    "version": 3
   },
   "file_extension": ".py",
   "mimetype": "text/x-python",
   "name": "python",
   "nbconvert_exporter": "python",
   "pygments_lexer": "ipython3",
   "version": "3.10.4"
  },
  "orig_nbformat": 4
 },
 "nbformat": 4,
 "nbformat_minor": 2
}
