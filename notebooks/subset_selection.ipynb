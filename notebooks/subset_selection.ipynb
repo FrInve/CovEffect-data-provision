{
 "cells": [
  {
   "cell_type": "markdown",
   "metadata": {},
   "source": [
    "# CORD-19 subset selection for CoVeffect mining"
   ]
  },
  {
   "cell_type": "markdown",
   "metadata": {},
   "source": [
    "## Setup"
   ]
  },
  {
   "cell_type": "code",
   "execution_count": null,
   "metadata": {},
   "outputs": [],
   "source": [
    "# Requirements (via pip)\n",
    "# Whoosh==2.7.4\n",
    "!pip install whoosh==2.7.4"
   ]
  },
  {
   "cell_type": "code",
   "execution_count": null,
   "metadata": {},
   "outputs": [],
   "source": [
    "# pandas\n",
    "!pip install pandas"
   ]
  },
  {
   "cell_type": "code",
   "execution_count": null,
   "metadata": {},
   "outputs": [],
   "source": [
    "# Download metadata_clustered.csv from:\n",
    "!wget https://polimi365-my.sharepoint.com/:x:/g/personal/10489381_polimi_it/ESCUy9vZnf1Fvvt-jxbS4wABEWUYzzlsEzpfKl0Vjj2KDA?download=1"
   ]
  },
  {
   "cell_type": "markdown",
   "metadata": {},
   "source": [
    "## Load metadata and select cluster\n",
    "\n",
    "cluster labels: 0, 1, 2, 3, 4\n",
    "\n",
    "cluster with biochem papers: 1"
   ]
  },
  {
   "cell_type": "code",
   "execution_count": 2,
   "metadata": {},
   "outputs": [],
   "source": [
    "import pandas as pd\n",
    "from whoosh import index, writing\n",
    "from whoosh.qparser import MultifieldParser, FuzzyTermPlugin, OperatorsPlugin\n",
    "from whoosh.fields import Schema, TEXT, KEYWORD, ID, STORED\n",
    "from whoosh.analysis import RegexTokenizer, LowercaseFilter, StopFilter"
   ]
  },
  {
   "cell_type": "code",
   "execution_count": 3,
   "metadata": {},
   "outputs": [
    {
     "name": "stderr",
     "output_type": "stream",
     "text": [
      "/tmp/ipykernel_5097/600864324.py:1: DtypeWarning: Columns (6,14) have mixed types. Specify dtype option on import or set low_memory=False.\n",
      "  df = pd.read_csv('./metadata_clustered.csv')\n"
     ]
    }
   ],
   "source": [
    "df = pd.read_csv('./metadata_clustered.csv')"
   ]
  },
  {
   "cell_type": "code",
   "execution_count": 6,
   "metadata": {},
   "outputs": [
    {
     "data": {
      "text/plain": [
       "(709906, 25)"
      ]
     },
     "execution_count": 6,
     "metadata": {},
     "output_type": "execute_result"
    }
   ],
   "source": [
    "# (709906, 25)\n",
    "df.shape"
   ]
  },
  {
   "cell_type": "code",
   "execution_count": 5,
   "metadata": {},
   "outputs": [],
   "source": [
    "df_blue_cluster = df[df.labels == 1]"
   ]
  },
  {
   "cell_type": "markdown",
   "metadata": {},
   "source": [
    "## Whoosh setup"
   ]
  },
  {
   "cell_type": "code",
   "execution_count": 9,
   "metadata": {},
   "outputs": [],
   "source": [
    "# I assume the index directory is: ./whoosh_idx\n",
    "!mkdir -p ./whoosh_idx"
   ]
  },
  {
   "cell_type": "code",
   "execution_count": 10,
   "metadata": {},
   "outputs": [],
   "source": [
    "ANALYZER = RegexTokenizer() | LowercaseFilter() | StopFilter()\n",
    "SCHEMA = Schema(\n",
    "    cord_uid = ID(stored=True),\n",
    "    doi = ID,\n",
    "    title = TEXT(analyzer=ANALYZER),\n",
    "    abstract = TEXT(analyzer=ANALYZER),\n",
    "    authors = TEXT\n",
    ")"
   ]
  },
  {
   "cell_type": "markdown",
   "metadata": {},
   "source": [
    "### Create the whoosh index\n",
    "\n",
    "This has to be done only the first time, skip to the next section otherwise"
   ]
  },
  {
   "cell_type": "code",
   "execution_count": 17,
   "metadata": {},
   "outputs": [],
   "source": [
    "# Initialize an empty index\n",
    "ix_working_dir = './whoosh_idx'\n",
    "if index.exists_in(ix_working_dir):\n",
    "    ix = index.open_dir(ix_working_dir)\n",
    "    with ix.writer() as writer:\n",
    "        writer.mergetype = writing.CLEAR\n",
    "\n",
    "ix = index.create_in(ix_working_dir, SCHEMA)"
   ]
  },
  {
   "cell_type": "code",
   "execution_count": 18,
   "metadata": {},
   "outputs": [],
   "source": [
    "# Index all the papers\n",
    "with ix.writer() as writer:\n",
    "\n",
    "    df_blue_cluster.fillna('').apply(lambda x: writer.add_document(cord_uid=x.cord_uid,\n",
    "                                           doi=x.doi,\n",
    "                                           title=x.title,\n",
    "                                           abstract=x.abstract\n",
    "            ) and writer.commit(optimize=True), axis=1)"
   ]
  },
  {
   "cell_type": "markdown",
   "metadata": {},
   "source": [
    "### Load the index, if you have already computed it in the previous section\n",
    "\n",
    "(you may skip these lines if you have just created the index in the above cells)"
   ]
  },
  {
   "cell_type": "code",
   "execution_count": 4,
   "metadata": {},
   "outputs": [],
   "source": [
    "ix_working_dir = './whoosh_idx'\n",
    "ix = index.open_dir(ix_working_dir)"
   ]
  },
  {
   "cell_type": "markdown",
   "metadata": {},
   "source": [
    "## Subset selection"
   ]
  },
  {
   "cell_type": "code",
   "execution_count": 19,
   "metadata": {},
   "outputs": [],
   "source": [
    "mparser = MultifieldParser([\"title\",\"abstract\"], schema=SCHEMA)\n",
    "mparser.add_plugin(OperatorsPlugin())"
   ]
  },
  {
   "cell_type": "code",
   "execution_count": 20,
   "metadata": {},
   "outputs": [],
   "source": [
    "queries = [\n",
    "    'effect'\n",
    "]\n"
   ]
  },
  {
   "cell_type": "code",
   "execution_count": 21,
   "metadata": {},
   "outputs": [],
   "source": [
    "cord_uids = []"
   ]
  },
  {
   "cell_type": "code",
   "execution_count": 22,
   "metadata": {},
   "outputs": [],
   "source": [
    "for _query in queries:\n",
    "    query = mparser.parse(str(_query))\n",
    "    with ix.searcher() as s:\n",
    "        results = s.search(query, limit=100000)\n",
    "        results = [elem['cord_uid'] for elem in results]\n",
    "        cord_uids += results\n",
    "#print(cord_uids)\n",
    "cord_uids = list(set(cord_uids))"
   ]
  },
  {
   "cell_type": "code",
   "execution_count": 23,
   "metadata": {},
   "outputs": [],
   "source": [
    "cord_uids = pd.DataFrame(cord_uids, columns=['cord_uid'])"
   ]
  },
  {
   "cell_type": "code",
   "execution_count": 34,
   "metadata": {},
   "outputs": [],
   "source": [
    "df_results = pd.merge(df_blue_cluster, cord_uids, on=['cord_uid'], how='right')"
   ]
  },
  {
   "cell_type": "code",
   "execution_count": 37,
   "metadata": {},
   "outputs": [
    {
     "data": {
      "text/plain": [
       "(16153, 25)"
      ]
     },
     "execution_count": 37,
     "metadata": {},
     "output_type": "execute_result"
    }
   ],
   "source": [
    "df_results.shape"
   ]
  }
 ],
 "metadata": {
  "kernelspec": {
   "display_name": "Python 3.10.5 ('.venv': venv)",
   "language": "python",
   "name": "python3"
  },
  "language_info": {
   "codemirror_mode": {
    "name": "ipython",
    "version": 3
   },
   "file_extension": ".py",
   "mimetype": "text/x-python",
   "name": "python",
   "nbconvert_exporter": "python",
   "pygments_lexer": "ipython3",
   "version": "3.10.5"
  },
  "orig_nbformat": 4,
  "vscode": {
   "interpreter": {
    "hash": "05201df7a544954f450b38fd0fd01094d4202744274a96f725848d5e77dc225d"
   }
  }
 },
 "nbformat": 4,
 "nbformat_minor": 2
}
