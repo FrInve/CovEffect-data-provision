{
 "cells": [
  {
   "cell_type": "markdown",
   "metadata": {},
   "source": [
    "# CORD-19 subset selection for CoVeffect mining"
   ]
  },
  {
   "cell_type": "markdown",
   "metadata": {},
   "source": [
    "## Setup"
   ]
  },
  {
   "cell_type": "code",
   "execution_count": null,
   "metadata": {},
   "outputs": [],
   "source": [
    "# Requirements (via pip)\n",
    "# Whoosh==2.7.4\n",
    "!pip install whoosh==2.7.4"
   ]
  },
  {
   "cell_type": "code",
   "execution_count": null,
   "metadata": {},
   "outputs": [],
   "source": [
    "# pandas\n",
    "!pip install pandas"
   ]
  },
  {
   "cell_type": "code",
   "execution_count": null,
   "metadata": {},
   "outputs": [],
   "source": [
    "# Download metadata_clustered.csv from:\n",
    "!wget https://polimi365-my.sharepoint.com/:x:/g/personal/10489381_polimi_it/ESCUy9vZnf1Fvvt-jxbS4wABEWUYzzlsEzpfKl0Vjj2KDA?download=1"
   ]
  },
  {
   "cell_type": "markdown",
   "metadata": {},
   "source": [
    "## Load metadata and select cluster\n",
    "\n",
    "cluster labels: 0, 1, 2, 3, 4\n",
    "\n",
    "cluster with biochem papers: 1"
   ]
  },
  {
   "cell_type": "code",
   "execution_count": 1,
   "metadata": {},
   "outputs": [],
   "source": [
    "import pandas as pd\n",
    "from whoosh import index, writing\n",
    "from whoosh.qparser import MultifieldParser, FuzzyTermPlugin, OperatorsPlugin, GroupPlugin, SingleQuotePlugin\n",
    "from whoosh.fields import Schema, TEXT, KEYWORD, ID, STORED\n",
    "from whoosh.analysis import RegexTokenizer, LowercaseFilter, StopFilter\n",
    "pd.options.display.max_colwidth = 2000"
   ]
  },
  {
   "cell_type": "code",
   "execution_count": 2,
   "metadata": {},
   "outputs": [
    {
     "name": "stderr",
     "output_type": "stream",
     "text": [
      "/tmp/ipykernel_5840/600864324.py:1: DtypeWarning: Columns (6,14) have mixed types. Specify dtype option on import or set low_memory=False.\n",
      "  df = pd.read_csv('./metadata_clustered.csv')\n"
     ]
    }
   ],
   "source": [
    "df = pd.read_csv('./metadata_clustered.csv')"
   ]
  },
  {
   "cell_type": "code",
   "execution_count": 3,
   "metadata": {},
   "outputs": [
    {
     "data": {
      "text/plain": [
       "(709906, 25)"
      ]
     },
     "execution_count": 3,
     "metadata": {},
     "output_type": "execute_result"
    }
   ],
   "source": [
    "# (709906, 25)\n",
    "df.shape"
   ]
  },
  {
   "cell_type": "code",
   "execution_count": 4,
   "metadata": {},
   "outputs": [],
   "source": [
    "df_blue_cluster = df[df.labels == 1]"
   ]
  },
  {
   "cell_type": "code",
   "execution_count": 5,
   "metadata": {},
   "outputs": [
    {
     "data": {
      "text/plain": [
       "(135712, 25)"
      ]
     },
     "execution_count": 5,
     "metadata": {},
     "output_type": "execute_result"
    }
   ],
   "source": [
    "df_blue_cluster.shape"
   ]
  },
  {
   "cell_type": "markdown",
   "metadata": {},
   "source": [
    "## Whoosh setup"
   ]
  },
  {
   "cell_type": "code",
   "execution_count": null,
   "metadata": {},
   "outputs": [],
   "source": [
    "# I assume the index directory is: ./whoosh_idx\n",
    "!mkdir -p ./whoosh_idx"
   ]
  },
  {
   "cell_type": "code",
   "execution_count": 6,
   "metadata": {},
   "outputs": [],
   "source": [
    "ANALYZER = RegexTokenizer() | LowercaseFilter() | StopFilter()\n",
    "SCHEMA = Schema(\n",
    "    cord_uid = ID(stored=True),\n",
    "    doi = ID,\n",
    "    title = TEXT(analyzer=ANALYZER),\n",
    "    abstract = TEXT(analyzer=ANALYZER),\n",
    "    authors = TEXT\n",
    ")"
   ]
  },
  {
   "cell_type": "markdown",
   "metadata": {},
   "source": [
    "### Create the whoosh index\n",
    "\n",
    "This has to be done only the first time, skip to the next section otherwise"
   ]
  },
  {
   "cell_type": "code",
   "execution_count": 17,
   "metadata": {},
   "outputs": [],
   "source": [
    "# Initialize an empty index\n",
    "ix_working_dir = './whoosh_idx'\n",
    "if index.exists_in(ix_working_dir):\n",
    "    ix = index.open_dir(ix_working_dir)\n",
    "    with ix.writer() as writer:\n",
    "        writer.mergetype = writing.CLEAR\n",
    "\n",
    "ix = index.create_in(ix_working_dir, SCHEMA)"
   ]
  },
  {
   "cell_type": "code",
   "execution_count": 18,
   "metadata": {},
   "outputs": [],
   "source": [
    "# Index all the papers\n",
    "with ix.writer() as writer:\n",
    "\n",
    "    df_blue_cluster.fillna('').apply(lambda x: writer.add_document(cord_uid=x.cord_uid,\n",
    "                                           doi=x.doi,\n",
    "                                           title=x.title,\n",
    "                                           abstract=x.abstract\n",
    "            ) and writer.commit(optimize=True), axis=1)"
   ]
  },
  {
   "cell_type": "markdown",
   "metadata": {},
   "source": [
    "### Load the index, if you have already computed it in the previous section\n",
    "\n",
    "(you may skip these lines if you have just created the index in the above cells)"
   ]
  },
  {
   "cell_type": "code",
   "execution_count": 7,
   "metadata": {},
   "outputs": [],
   "source": [
    "ix_working_dir = './whoosh_idx'\n",
    "ix = index.open_dir(ix_working_dir)"
   ]
  },
  {
   "cell_type": "markdown",
   "metadata": {},
   "source": [
    "## Subset selection"
   ]
  },
  {
   "cell_type": "code",
   "execution_count": 8,
   "metadata": {},
   "outputs": [],
   "source": [
    "mparser = MultifieldParser([\"title\",\"abstract\"], schema=SCHEMA)\n",
    "mparser.add_plugin(OperatorsPlugin())\n",
    "mparser.add_plugin(GroupPlugin())\n",
    "mparser.add_plugin(SingleQuotePlugin())"
   ]
  },
  {
   "cell_type": "code",
   "execution_count": 167,
   "metadata": {},
   "outputs": [],
   "source": [
    "queries = [\n",
    "#\"(SARS-COV-2 OR COVID-19) AND ((variant impact) OR (mutation impact) OR (mutation effect) OR (variant effect)) AND (variant of concern)\"\n",
    "#\"(SARS-COV-2 OR COVID-19) AND (mutation impact OR variant impact OR mutation effect OR variant effect) AND variant of concern'\"\n",
    "#\"(SARS-COV-2 OR COVID-19) AND (mutation (impact OR variant) (impact OR mutation) (effect OR variant) effect) AND (variant of concern)\"\n",
    "\"variant of concern\"\n",
    "]\n"
   ]
  },
  {
   "cell_type": "code",
   "execution_count": 168,
   "metadata": {},
   "outputs": [],
   "source": [
    "cord_uids = []"
   ]
  },
  {
   "cell_type": "code",
   "execution_count": 169,
   "metadata": {},
   "outputs": [],
   "source": [
    "for _query in queries:\n",
    "    query = mparser.parse(str(_query))\n",
    "    with ix.searcher() as s:\n",
    "        results = s.search(query, limit=100000)\n",
    "        results = [elem['cord_uid'] for elem in results]\n",
    "        cord_uids += results\n",
    "#print(cord_uids)\n",
    "cord_uids = list(set(cord_uids))"
   ]
  },
  {
   "cell_type": "code",
   "execution_count": 170,
   "metadata": {},
   "outputs": [],
   "source": [
    "cord_uids = pd.DataFrame(cord_uids, columns=['cord_uid'])"
   ]
  },
  {
   "cell_type": "code",
   "execution_count": 171,
   "metadata": {},
   "outputs": [
    {
     "data": {
      "text/plain": [
       "(830, 25)"
      ]
     },
     "execution_count": 171,
     "metadata": {},
     "output_type": "execute_result"
    }
   ],
   "source": [
    "df_results = pd.merge(df_blue_cluster, cord_uids, on=['cord_uid'], how='right')\n",
    "df_results = df_results[df_results.doi.notna()].sort_values(by='publish_time', ascending=False).drop_duplicates(subset=['title'],keep='first')\n",
    "df_results.shape"
   ]
  },
  {
   "cell_type": "code",
   "execution_count": 146,
   "metadata": {},
   "outputs": [
    {
     "data": {
      "text/html": [
       "<div>\n",
       "<style scoped>\n",
       "    .dataframe tbody tr th:only-of-type {\n",
       "        vertical-align: middle;\n",
       "    }\n",
       "\n",
       "    .dataframe tbody tr th {\n",
       "        vertical-align: top;\n",
       "    }\n",
       "\n",
       "    .dataframe thead th {\n",
       "        text-align: right;\n",
       "    }\n",
       "</style>\n",
       "<table border=\"1\" class=\"dataframe\">\n",
       "  <thead>\n",
       "    <tr style=\"text-align: right;\">\n",
       "      <th></th>\n",
       "      <th>cord_uid</th>\n",
       "      <th>doi</th>\n",
       "      <th>title</th>\n",
       "      <th>abstract</th>\n",
       "    </tr>\n",
       "  </thead>\n",
       "  <tbody>\n",
       "    <tr>\n",
       "      <th>138</th>\n",
       "      <td>d0chgdhd</td>\n",
       "      <td>10.1016/j.csbj.2022.04.030</td>\n",
       "      <td>SARS-CoV-2 Pan-variant Inhibitory Peptides Det...</td>\n",
       "      <td>Approved neutralizing antibodies that target t...</td>\n",
       "    </tr>\n",
       "    <tr>\n",
       "      <th>183</th>\n",
       "      <td>yppu5hp4</td>\n",
       "      <td>10.1093/infdis/jiac153</td>\n",
       "      <td>Protection of Hamsters Challenged with SARS-Co...</td>\n",
       "      <td>SARS-CoV-2 Variants of Concern (VoCs) negative...</td>\n",
       "    </tr>\n",
       "    <tr>\n",
       "      <th>212</th>\n",
       "      <td>o81ae6c2</td>\n",
       "      <td>10.1371/journal.pone.0266844</td>\n",
       "      <td>An in-silico study of the mutation-associated ...</td>\n",
       "      <td>The emergence of Omicron (B.1.1.529), a new Va...</td>\n",
       "    </tr>\n",
       "    <tr>\n",
       "      <th>93</th>\n",
       "      <td>5tab5282</td>\n",
       "      <td>10.3390/biom12040572</td>\n",
       "      <td>Mutational Effect of Some Major COVID-19 Varia...</td>\n",
       "      <td>COVID-19 is caused by severe acute respiratory...</td>\n",
       "    </tr>\n",
       "    <tr>\n",
       "      <th>170</th>\n",
       "      <td>6mg5g3jy</td>\n",
       "      <td>10.3390/cells11081262</td>\n",
       "      <td>SMYD2 Inhibition Downregulates TMPRSS2 and Dec...</td>\n",
       "      <td>The COVID-19 pandemic caused by SARS-CoV-2 has...</td>\n",
       "    </tr>\n",
       "    <tr>\n",
       "      <th>...</th>\n",
       "      <td>...</td>\n",
       "      <td>...</td>\n",
       "      <td>...</td>\n",
       "      <td>...</td>\n",
       "    </tr>\n",
       "    <tr>\n",
       "      <th>202</th>\n",
       "      <td>ztyin1xk</td>\n",
       "      <td>10.1101/2021.11.17.468942</td>\n",
       "      <td>IFITM dependency of SARS-CoV-2 variants of con...</td>\n",
       "      <td>We have recently shown that a SARS-CoV-2 strai...</td>\n",
       "    </tr>\n",
       "    <tr>\n",
       "      <th>112</th>\n",
       "      <td>vmffvpo6</td>\n",
       "      <td>10.1128/aac.00772-21</td>\n",
       "      <td>The Natural Stilbenoid (–)-Hopeaphenol Inhibit...</td>\n",
       "      <td>Antivirals are urgently needed to combat the g...</td>\n",
       "    </tr>\n",
       "    <tr>\n",
       "      <th>151</th>\n",
       "      <td>ycsua6po</td>\n",
       "      <td>10.1101/2021.11.14.21266294</td>\n",
       "      <td>Inactivated virus vaccine BBV152/Covaxin elici...</td>\n",
       "      <td>The characteristics of immune memory establish...</td>\n",
       "    </tr>\n",
       "    <tr>\n",
       "      <th>140</th>\n",
       "      <td>332ljbrr</td>\n",
       "      <td>10.3390/ijms222212114</td>\n",
       "      <td>SARS-CoV-2 Variants, RBD Mutations, Binding Af...</td>\n",
       "      <td>Since 2020, the receptor-binding domain (RBD) ...</td>\n",
       "    </tr>\n",
       "    <tr>\n",
       "      <th>73</th>\n",
       "      <td>luzqpiyn</td>\n",
       "      <td>10.1016/j.ebiom.2021.103675</td>\n",
       "      <td>Pathogenic and transcriptomic differences of e...</td>\n",
       "      <td>BACKGROUND: Following the discovery of severe ...</td>\n",
       "    </tr>\n",
       "  </tbody>\n",
       "</table>\n",
       "<p>100 rows × 4 columns</p>\n",
       "</div>"
      ],
      "text/plain": [
       "     cord_uid                           doi  \\\n",
       "138  d0chgdhd    10.1016/j.csbj.2022.04.030   \n",
       "183  yppu5hp4        10.1093/infdis/jiac153   \n",
       "212  o81ae6c2  10.1371/journal.pone.0266844   \n",
       "93   5tab5282          10.3390/biom12040572   \n",
       "170  6mg5g3jy         10.3390/cells11081262   \n",
       "..        ...                           ...   \n",
       "202  ztyin1xk     10.1101/2021.11.17.468942   \n",
       "112  vmffvpo6          10.1128/aac.00772-21   \n",
       "151  ycsua6po   10.1101/2021.11.14.21266294   \n",
       "140  332ljbrr         10.3390/ijms222212114   \n",
       "73   luzqpiyn   10.1016/j.ebiom.2021.103675   \n",
       "\n",
       "                                                 title  \\\n",
       "138  SARS-CoV-2 Pan-variant Inhibitory Peptides Det...   \n",
       "183  Protection of Hamsters Challenged with SARS-Co...   \n",
       "212  An in-silico study of the mutation-associated ...   \n",
       "93   Mutational Effect of Some Major COVID-19 Varia...   \n",
       "170  SMYD2 Inhibition Downregulates TMPRSS2 and Dec...   \n",
       "..                                                 ...   \n",
       "202  IFITM dependency of SARS-CoV-2 variants of con...   \n",
       "112  The Natural Stilbenoid (–)-Hopeaphenol Inhibit...   \n",
       "151  Inactivated virus vaccine BBV152/Covaxin elici...   \n",
       "140  SARS-CoV-2 Variants, RBD Mutations, Binding Af...   \n",
       "73   Pathogenic and transcriptomic differences of e...   \n",
       "\n",
       "                                              abstract  \n",
       "138  Approved neutralizing antibodies that target t...  \n",
       "183  SARS-CoV-2 Variants of Concern (VoCs) negative...  \n",
       "212  The emergence of Omicron (B.1.1.529), a new Va...  \n",
       "93   COVID-19 is caused by severe acute respiratory...  \n",
       "170  The COVID-19 pandemic caused by SARS-CoV-2 has...  \n",
       "..                                                 ...  \n",
       "202  We have recently shown that a SARS-CoV-2 strai...  \n",
       "112  Antivirals are urgently needed to combat the g...  \n",
       "151  The characteristics of immune memory establish...  \n",
       "140  Since 2020, the receptor-binding domain (RBD) ...  \n",
       "73   BACKGROUND: Following the discovery of severe ...  \n",
       "\n",
       "[100 rows x 4 columns]"
      ]
     },
     "execution_count": 146,
     "metadata": {},
     "output_type": "execute_result"
    }
   ],
   "source": [
    "df_results[['cord_uid', 'doi', 'title','abstract']].head(100)"
   ]
  },
  {
   "cell_type": "code",
   "execution_count": null,
   "metadata": {},
   "outputs": [],
   "source": []
  }
 ],
 "metadata": {
  "kernelspec": {
   "display_name": "Python 3.10.5 ('.venv': venv)",
   "language": "python",
   "name": "python3"
  },
  "language_info": {
   "codemirror_mode": {
    "name": "ipython",
    "version": 3
   },
   "file_extension": ".py",
   "mimetype": "text/x-python",
   "name": "python",
   "nbconvert_exporter": "python",
   "pygments_lexer": "ipython3",
   "version": "3.10.5"
  },
  "orig_nbformat": 4,
  "vscode": {
   "interpreter": {
    "hash": "05201df7a544954f450b38fd0fd01094d4202744274a96f725848d5e77dc225d"
   }
  }
 },
 "nbformat": 4,
 "nbformat_minor": 2
}
